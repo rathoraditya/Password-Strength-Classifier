{
 "cells": [
  {
   "cell_type": "code",
   "execution_count": null,
   "id": "ac8830ce-7bc0-4733-9624-343626602abb",
   "metadata": {},
   "outputs": [],
   "source": [
    "import pandas as pd\n",
    "import numpy as np\n",
    "from sklearn.feature_extraction.text import TfidfVectorizer\n",
    "from sklearn.model_selection import train_test_split\n",
    "from sklearn.ensemble import RandomForestClassifier\n",
    "import warnings\n",
    "warnings.filterwarnings(\"ignore\")"
   ]
  },
  {
   "cell_type": "code",
   "execution_count": null,
   "id": "4681689b-fb4d-46a5-8319-673a7202b118",
   "metadata": {},
   "outputs": [],
   "source": [
    "data= pd.read_csv(r\"C:\\Users\\lenovo\\OneDrive\\Desktop\\password_str\\data.csv\", on_bad_lines=\"skip\")\n"
   ]
  },
  {
   "cell_type": "code",
   "execution_count": null,
   "id": "499d37d4-d10a-4d9a-ab9d-a6e850960449",
   "metadata": {},
   "outputs": [],
   "source": [
    "print(data.head())"
   ]
  },
  {
   "cell_type": "code",
   "execution_count": null,
   "id": "71817967-eccb-4fa1-94fa-013393354b03",
   "metadata": {},
   "outputs": [],
   "source": [
    "data=data.sample(n=100000,random_state=42)"
   ]
  },
  {
   "cell_type": "code",
   "execution_count": null,
   "id": "7a7d8e03-95d9-4e0b-ae8a-2056c50a29c1",
   "metadata": {},
   "outputs": [],
   "source": [
    "data=data.dropna()\n",
    "data.info()"
   ]
  },
  {
   "cell_type": "code",
   "execution_count": null,
   "id": "e640e0d8-4238-49a7-b348-b9de5db45a02",
   "metadata": {},
   "outputs": [],
   "source": [
    "data.strength=data.strength.map({0:\"Weak\",1:\"Medium\",2:\"Strong\"})"
   ]
  },
  {
   "cell_type": "code",
   "execution_count": null,
   "id": "b3a97c5a-a6f6-47f2-9cf8-05b7eea64731",
   "metadata": {},
   "outputs": [],
   "source": [
    "password=np.array(data.password)\n",
    "strength=np.array(data.strength)"
   ]
  },
  {
   "cell_type": "code",
   "execution_count": null,
   "id": "3e5739f3-de0b-4a46-82c4-42e7c6105a85",
   "metadata": {},
   "outputs": [],
   "source": [
    "def splitPassword(password):\n",
    "    character=[]\n",
    "    for i in password:\n",
    "        character.append(i)\n",
    "    return character"
   ]
  },
  {
   "cell_type": "code",
   "execution_count": null,
   "id": "3edf1293-87aa-43fe-a5e3-2b89447328e0",
   "metadata": {},
   "outputs": [],
   "source": [
    "tfidf=TfidfVectorizer(tokenizer=splitPassword)\n",
    "X=tfidf.fit_transform(password)"
   ]
  },
  {
   "cell_type": "code",
   "execution_count": null,
   "id": "54110c82-54d6-48b4-9bda-42f4e73e35fb",
   "metadata": {},
   "outputs": [],
   "source": [
    "x_train,x_test,y_train,y_test=train_test_split(X,strength,test_size=0.33,random_state=10)"
   ]
  },
  {
   "cell_type": "code",
   "execution_count": null,
   "id": "1be8a158-a822-4878-830f-fa2818282834",
   "metadata": {},
   "outputs": [],
   "source": [
    "model = RandomForestClassifier(n_estimators=10)\n",
    "model.fit(x_train, y_train)"
   ]
  },
  {
   "cell_type": "code",
   "execution_count": null,
   "id": "67606e9d-b1d6-4180-86fb-4ef1c018f96e",
   "metadata": {},
   "outputs": [],
   "source": [
    "model.score(x_test,y_test)"
   ]
  },
  {
   "cell_type": "code",
   "execution_count": null,
   "id": "9f6f9e86-a66d-42fc-9249-82752cf073a5",
   "metadata": {},
   "outputs": [],
   "source": [
    "prediction_password=\"ajddjjhdj&$2hdghfkf$@56@@879\"\n",
    "prediction=tfidf.transform([prediction_password]).toarray()\n",
    "model_predict=model.predict(prediction)\n",
    "model_predict[0]"
   ]
  },
  {
   "cell_type": "code",
   "execution_count": null,
   "id": "a077479e-5c97-4313-87a9-76a336cff697",
   "metadata": {},
   "outputs": [],
   "source": [
    "from sklearn.linear_model import LogisticRegression\n",
    "\n",
    "model = LogisticRegression()\n",
    "model.fit(x_train, y_train)\n",
    "model.score(x_test,y_test)"
   ]
  },
  {
   "cell_type": "code",
   "execution_count": null,
   "id": "1a76d297-7e8e-41a3-9b4b-311abfe7ad35",
   "metadata": {},
   "outputs": [],
   "source": [
    "from sklearn.neighbors import KNeighborsClassifier\n",
    "\n",
    "model = KNeighborsClassifier(n_neighbors=5,metric=\"minkowski\")\n",
    "model.fit(x_train, y_train)\n",
    "model.score(x_test,y_test)"
   ]
  },
  {
   "cell_type": "code",
   "execution_count": null,
   "id": "e9cda3cc-dec5-44e4-8dbc-46b7dbd5d462",
   "metadata": {},
   "outputs": [],
   "source": [
    "from sklearn.svm import SVC\n",
    "\n",
    "model = SVC(kernel=\"rbf\")\n",
    "model.fit(x_train, y_train)\n",
    "model.score(x_test,y_test)"
   ]
  },
  {
   "cell_type": "code",
   "execution_count": null,
   "id": "1c3006c3-b46a-4da8-9265-db8e37d36bc9",
   "metadata": {},
   "outputs": [],
   "source": [
    "from sklearn.tree import DecisionTreeClassifier\n",
    "\n",
    "model = DecisionTreeClassifier(criterion=\"entropy\")\n",
    "model.fit(x_train, y_train)\n",
    "model.score(x_test,y_test)"
   ]
  },
  {
   "cell_type": "code",
   "execution_count": null,
   "id": "40255eb5-60b6-431e-9079-58cb0e711783",
   "metadata": {},
   "outputs": [],
   "source": []
  },
  {
   "cell_type": "code",
   "execution_count": null,
   "id": "3840d09b-6b02-49bf-a5ce-dd3bba5642c9",
   "metadata": {},
   "outputs": [],
   "source": []
  }
 ],
 "metadata": {
  "kernelspec": {
   "display_name": "Python 3 (ipykernel)",
   "language": "python",
   "name": "python3"
  },
  "language_info": {
   "codemirror_mode": {
    "name": "ipython",
    "version": 3
   },
   "file_extension": ".py",
   "mimetype": "text/x-python",
   "name": "python",
   "nbconvert_exporter": "python",
   "pygments_lexer": "ipython3",
   "version": "3.12.4"
  }
 },
 "nbformat": 4,
 "nbformat_minor": 5
}
